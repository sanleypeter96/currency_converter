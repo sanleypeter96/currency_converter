{
 "cells": [
  {
   "cell_type": "code",
   "execution_count": 11,
   "metadata": {},
   "outputs": [],
   "source": [
    "import sqlite3"
   ]
  },
  {
   "cell_type": "code",
   "execution_count": 12,
   "metadata": {},
   "outputs": [],
   "source": [
    "connection = sqlite3.connect('../database/currency.db')\n",
    "cursor = connection.cursor()\n",
    "\n",
    "#Create the table\n",
    "cursor.execute('''CREATE TABLE IF NOT EXISTS Currency\n",
    "                (Source_Currency TEXT, Destination_Currency TEXT, Source_Amount FLOAT, Rate FLOAT, Converted_Amount FLOAT)''')\n",
    "\n",
    "#Commit changes\n",
    "connection.commit()\n",
    "\n",
    "#Close connection\n",
    "connection.close()"
   ]
  }
 ],
 "metadata": {
  "kernelspec": {
   "display_name": "Python 3.8.9 64-bit",
   "language": "python",
   "name": "python3"
  },
  "language_info": {
   "codemirror_mode": {
    "name": "ipython",
    "version": 3
   },
   "file_extension": ".py",
   "mimetype": "text/x-python",
   "name": "python",
   "nbconvert_exporter": "python",
   "pygments_lexer": "ipython3",
   "version": "3.8.9"
  },
  "orig_nbformat": 4,
  "vscode": {
   "interpreter": {
    "hash": "037ebb32ea929fe7a02200a946cd8fe16bdd971c30a27ff42c9f06592268414d"
   }
  }
 },
 "nbformat": 4,
 "nbformat_minor": 2
}
