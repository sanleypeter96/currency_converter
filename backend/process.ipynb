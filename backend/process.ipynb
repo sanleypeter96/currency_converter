{
 "cells": [
  {
   "cell_type": "code",
   "execution_count": 52,
   "metadata": {},
   "outputs": [],
   "source": [
    "import pandas as pd\n",
    "import glob\n",
    "import os\n",
    "import sqlite3\n",
    "import csv"
   ]
  },
  {
   "cell_type": "code",
   "execution_count": 27,
   "metadata": {},
   "outputs": [
    {
     "name": "stdout",
     "output_type": "stream",
     "text": [
      "/Users/sanleypeter/Desktop/TransferMate/backend/../data/csv/data2.csv\n",
      "/Users/sanleypeter/Desktop/TransferMate/backend/../data/csv/data1.csv\n"
     ]
    }
   ],
   "source": [
    "from os import path\n",
    "\n",
    "csvfiles = []\n",
    "path = os.path.join(os.getcwd(), \"../data/csv/\")\n",
    "csvfiles = glob.glob(path+\"*.csv\")\n",
    "print(*csvfiles, sep='\\n')"
   ]
  },
  {
   "cell_type": "code",
   "execution_count": null,
   "metadata": {},
   "outputs": [],
   "source": [
    "def process(data):\n",
    "    "
   ]
  },
  {
   "cell_type": "code",
   "execution_count": 57,
   "metadata": {},
   "outputs": [
    {
     "name": "stdout",
     "output_type": "stream",
     "text": [
      "<class 'list'>\n",
      "<class 'list'>\n",
      "<class 'list'>\n",
      "<class 'list'>\n",
      "<class 'list'>\n",
      "<class 'list'>\n",
      "<class 'list'>\n",
      "<class 'list'>\n"
     ]
    }
   ],
   "source": [
    "from typing import final\n",
    "\n",
    "\n",
    "list_df = []\n",
    "for csvfile in csvfiles:\n",
    "   with open(csvfile, \"r\") as f:\n",
    "      reader = csv.reader(f)\n",
    "      header = next(reader)\n",
    "      if header != None:\n",
    "         for row in reader:\n",
    "            print(row)\n",
    "   # list_df.append(df)\n",
    "\n",
    "# final_df = pd.concat(list_df)\n",
    "# final_df = final_df.reset_index(drop=True)"
   ]
  },
  {
   "cell_type": "code",
   "execution_count": 49,
   "metadata": {},
   "outputs": [
    {
     "data": {
      "text/html": [
       "<div>\n",
       "<style scoped>\n",
       "    .dataframe tbody tr th:only-of-type {\n",
       "        vertical-align: middle;\n",
       "    }\n",
       "\n",
       "    .dataframe tbody tr th {\n",
       "        vertical-align: top;\n",
       "    }\n",
       "\n",
       "    .dataframe thead th {\n",
       "        text-align: right;\n",
       "    }\n",
       "</style>\n",
       "<table border=\"1\" class=\"dataframe\">\n",
       "  <thead>\n",
       "    <tr style=\"text-align: right;\">\n",
       "      <th></th>\n",
       "      <th>Source Currency</th>\n",
       "      <th>Destination Currency</th>\n",
       "      <th>Source Amount</th>\n",
       "      <th>Rate</th>\n",
       "    </tr>\n",
       "  </thead>\n",
       "  <tbody>\n",
       "    <tr>\n",
       "      <th>0</th>\n",
       "      <td>EUR</td>\n",
       "      <td>USD</td>\n",
       "      <td>50</td>\n",
       "      <td>0.98</td>\n",
       "    </tr>\n",
       "    <tr>\n",
       "      <th>1</th>\n",
       "      <td>EUR</td>\n",
       "      <td>USD</td>\n",
       "      <td>400</td>\n",
       "      <td>0.98</td>\n",
       "    </tr>\n",
       "    <tr>\n",
       "      <th>2</th>\n",
       "      <td>EUR</td>\n",
       "      <td>GBP</td>\n",
       "      <td>300</td>\n",
       "      <td>0.86</td>\n",
       "    </tr>\n",
       "    <tr>\n",
       "      <th>3</th>\n",
       "      <td>USD</td>\n",
       "      <td>AUD</td>\n",
       "      <td>800</td>\n",
       "      <td>1.56</td>\n",
       "    </tr>\n",
       "    <tr>\n",
       "      <th>4</th>\n",
       "      <td>EUR</td>\n",
       "      <td>USD</td>\n",
       "      <td>100</td>\n",
       "      <td>0.98</td>\n",
       "    </tr>\n",
       "    <tr>\n",
       "      <th>5</th>\n",
       "      <td>EUR</td>\n",
       "      <td>USD</td>\n",
       "      <td>98</td>\n",
       "      <td>0.98</td>\n",
       "    </tr>\n",
       "    <tr>\n",
       "      <th>6</th>\n",
       "      <td>EUR</td>\n",
       "      <td>GBP</td>\n",
       "      <td>200</td>\n",
       "      <td>0.86</td>\n",
       "    </tr>\n",
       "    <tr>\n",
       "      <th>7</th>\n",
       "      <td>USD</td>\n",
       "      <td>AUD</td>\n",
       "      <td>500</td>\n",
       "      <td>1.56</td>\n",
       "    </tr>\n",
       "  </tbody>\n",
       "</table>\n",
       "</div>"
      ],
      "text/plain": [
       "  Source Currency Destination Currency  Source Amount  Rate\n",
       "0             EUR                  USD             50  0.98\n",
       "1             EUR                  USD            400  0.98\n",
       "2             EUR                  GBP            300  0.86\n",
       "3             USD                  AUD            800  1.56\n",
       "4             EUR                  USD            100  0.98\n",
       "5             EUR                  USD             98  0.98\n",
       "6             EUR                  GBP            200  0.86\n",
       "7             USD                  AUD            500  1.56"
      ]
     },
     "execution_count": 49,
     "metadata": {},
     "output_type": "execute_result"
    }
   ],
   "source": [
    "final_df"
   ]
  },
  {
   "cell_type": "code",
   "execution_count": 39,
   "metadata": {},
   "outputs": [
    {
     "name": "stderr",
     "output_type": "stream",
     "text": [
      "/Users/sanleypeter/dev/lib/python3.8/site-packages/pandas/core/generic.py:2872: UserWarning: The spaces in these column names will not be changed. In pandas versions < 0.14, spaces were converted to underscores.\n",
      "  sql.to_sql(\n"
     ]
    }
   ],
   "source": [
    "#Saving contents to database\n",
    "con = sqlite3.connect(\"../database/currency.db\")\n",
    "cur = con.cursor()\n",
    "df.to_sql(\"Currency\", con, if_exists=\"replace\")\n",
    "con.close()"
   ]
  },
  {
   "cell_type": "code",
   "execution_count": 40,
   "metadata": {},
   "outputs": [
    {
     "name": "stdout",
     "output_type": "stream",
     "text": [
      "   index Source Currency Destination Currency  Source Amount  Rate\n",
      "0      0             EUR                  USD             50  0.98\n",
      "1      1             EUR                  USD            400  0.98\n",
      "2      2             EUR                  GBP            300  0.86\n",
      "3      3             USD                  AUD            800  1.56\n",
      "4      4             EUR                  USD            100  0.98\n",
      "5      5             EUR                  USD             98  0.98\n",
      "6      6             EUR                  GBP            200  0.86\n",
      "7      7             USD                  AUD            500  1.56\n"
     ]
    }
   ],
   "source": [
    "#Read contents from database\n",
    "con = sqlite3.connect(\"../database/currency.db\")\n",
    "db_df = pd.read_sql_query(\"SELECT * from Currency\", con)\n",
    "print(db_df)\n",
    "con.close()"
   ]
  },
  {
   "cell_type": "code",
   "execution_count": null,
   "metadata": {},
   "outputs": [],
   "source": []
  }
 ],
 "metadata": {
  "kernelspec": {
   "display_name": "Python 3.8.9 64-bit",
   "language": "python",
   "name": "python3"
  },
  "language_info": {
   "codemirror_mode": {
    "name": "ipython",
    "version": 3
   },
   "file_extension": ".py",
   "mimetype": "text/x-python",
   "name": "python",
   "nbconvert_exporter": "python",
   "pygments_lexer": "ipython3",
   "version": "3.8.9"
  },
  "orig_nbformat": 4,
  "vscode": {
   "interpreter": {
    "hash": "037ebb32ea929fe7a02200a946cd8fe16bdd971c30a27ff42c9f06592268414d"
   }
  }
 },
 "nbformat": 4,
 "nbformat_minor": 2
}
